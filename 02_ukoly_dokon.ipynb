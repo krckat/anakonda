{
 "cells": [
  {
   "cell_type": "markdown",
   "metadata": {},
   "source": [
    "# Prostory jmen a obor platnosti proměnných:\n",
    "- Upravte funkci nalézající prvočísla tak, aby ukládala již spočítané prvočísla do listu v defaultním argumentu funkce. \n"
   ]
  },
  {
   "cell_type": "code",
   "execution_count": 2,
   "metadata": {},
   "outputs": [
    {
     "name": "stdout",
     "output_type": "stream",
     "text": [
      "[2, 3, 5, 7, 11, 13, 17, 19]\n"
     ]
    }
   ],
   "source": [
    "import random\n",
    "import math\n",
    "def find_primes(n, primes=[]):\n",
    "    for num in range(2, n+1):\n",
    "        for i in range(2, num):\n",
    "            if num % i == 0:\n",
    "                break\n",
    "        else:\n",
    "            primes.append(num)\n",
    "    return primes\n",
    "\n",
    "print(find_primes(20))\n"
   ]
  },
  {
   "cell_type": "markdown",
   "metadata": {},
   "source": [
    "\n",
    "# Jupyter magics:\n",
    "- použijte funkci %%writefile a pomocí ní (a kopie funkcí z posledního DU) vytvořte .py soubor sloužící jako modul mající tři funkce viz minulý DU\n",
    "- Použijte magic příkazy %time %timeit %%time a %%timeit k měření času běhu různých částí kódu (například funkcí z minulého DU).\n"
   ]
  },
  {
   "cell_type": "code",
   "execution_count": 11,
   "metadata": {},
   "outputs": [
    {
     "name": "stdout",
     "output_type": "stream",
     "text": [
      "Writing chuchu.py\n"
     ]
    }
   ],
   "source": [
    "%%writefile chuchu.py\n",
    "import numpy as np\n",
    "def odmocnina(a,n):\n",
    "    x0 = a\n",
    "    for i in range(0,n):\n",
    "        x0 = (a/x0 + x0)/2\n",
    "    return x0\n",
    "\n",
    "a = 2\n",
    "print(odmocnina(a,1000))\n",
    "print(np.sqrt(a))\n",
    "#####\n",
    "def odhad_pi(n):\n",
    "    a = 1\n",
    "    b = 1\n",
    "    v = odmocnina(3,1000)/2\n",
    "    for i in range(0,n):\n",
    "        b = odmocnina((b/2)**2 + (1-v)**2,1000)\n",
    "        v = odmocnina(a**2 - (b/2)**2,1000)\n",
    "    return 6*2**n*b*v/2\n",
    "    \n",
    "####\n",
    "def pi_newton(n):\n",
    "    a = 1/2**4\n",
    "    s = 0\n",
    "    for i in range(1,n):\n",
    "        s += 1/(2*i+1)*a\n",
    "        a = a*(2*(i+1)-3)/((i+1)*2**3)\n",
    "    return 12*(-odmocnina(3,1000)/8 + 1/2 - s)"
   ]
  },
  {
   "cell_type": "code",
   "execution_count": 17,
   "metadata": {},
   "outputs": [],
   "source": [
    "\n",
    "import numpy as np\n",
    "def odmocnina(a,n):\n",
    "    x0 = a\n",
    "    for i in range(0,n):\n",
    "        x0 = (a/x0 + x0)/2\n",
    "    return x0\n",
    "def odhad_pi(n):\n",
    "    a = 1\n",
    "    b = 1\n",
    "    v = odmocnina(3,1000)/2\n",
    "    for i in range(0,n):\n",
    "        b = odmocnina((b/2)**2 + (1-v)**2,1000)\n",
    "        v = odmocnina(a**2 - (b/2)**2,1000)\n",
    "    return 6*2**n*b*v/2\n",
    "def pi_newton(n):\n",
    "    a = 1/2**4\n",
    "    s = 0\n",
    "    for i in range(1,n):\n",
    "        s += 1/(2*i+1)*a\n",
    "        a = a*(2*(i+1)-3)/((i+1)*2**3)\n",
    "    return 12*(-odmocnina(3,1000)/8 + 1/2 - s)"
   ]
  },
  {
   "cell_type": "code",
   "execution_count": 18,
   "metadata": {},
   "outputs": [
    {
     "name": "stdout",
     "output_type": "stream",
     "text": [
      "104 ms ± 35.8 ms per loop (mean ± std. dev. of 7 runs, 10 loops each)\n",
      "2.39 ms ± 396 µs per loop (mean ± std. dev. of 7 runs, 100 loops each)\n"
     ]
    }
   ],
   "source": [
    "%timeit odhad_pi(49)\n",
    "%timeit pi_newton(60)"
   ]
  },
  {
   "cell_type": "markdown",
   "metadata": {},
   "source": [
    "\n",
    "# Práce s řetězci:\n",
    "\n",
    "- Použíjte funkce z minulého úkolu a v cyklu spočtěte $\\pi$ s různým $n$. Pomocí f-strings vypište výsledky ve formátu \"n = 5, pi = 3.14159, počet správných cifer = 5\".\n"
   ]
  },
  {
   "cell_type": "code",
   "execution_count": 2,
   "metadata": {},
   "outputs": [
    {
     "name": "stdout",
     "output_type": "stream",
     "text": [
      "n = 1 , pi = 3.00000, pocet spravnych cifer = 0\n",
      "n = 2 , pi = 3.10583, pocet spravnych cifer = 1\n",
      "n = 3 , pi = 3.13263, pocet spravnych cifer = 2\n",
      "n = 4 , pi = 3.13935, pocet spravnych cifer = 2\n",
      "n = 5 , pi = 3.14103, pocet spravnych cifer = 3\n",
      "n = 6 , pi = 3.14145, pocet spravnych cifer = 3\n",
      "n = 7 , pi = 3.14156, pocet spravnych cifer = 4\n",
      "n = 8 , pi = 3.14158, pocet spravnych cifer = 5\n",
      "n = 9 , pi = 3.14159, pocet spravnych cifer = 5\n",
      "n = 10 , pi = 3.14159, pocet spravnych cifer = 6\n"
     ]
    }
   ],
   "source": [
    "import numpy as np\n",
    "def odmocnina(a,n):\n",
    "    x0 = a\n",
    "    for i in range(0,n):\n",
    "        x0 = (a/x0 + x0)/2\n",
    "    return x0\n",
    "def odhad_pi(n):\n",
    "    a = 1\n",
    "    b = 1\n",
    "    v = odmocnina(3,1000)/2\n",
    "    for i in range(0,n):\n",
    "        b = odmocnina((b/2)**2 + (1-v)**2,1000)\n",
    "        v = odmocnina(a**2 - (b/2)**2,1000)\n",
    "    return 6*2**n*b*v/2\n",
    "\n",
    "for n in range(1,11):\n",
    "    import math\n",
    "    aprox = odhad_pi(n) \n",
    "    digit = -int(math.log10(abs(aprox - math.pi)))\n",
    "    print(f\"n = {n} , pi = {aprox:.5f}, pocet spravnych cifer = {digit}\")"
   ]
  },
  {
   "cell_type": "markdown",
   "metadata": {},
   "source": [
    "\n",
    "# Generátory a iterátory:\n",
    "\n",
    "- Napište generátor (funkci), který vytváří Fibonacciho posloupnost a vrátí prvních $n$ členů.\n"
   ]
  },
  {
   "cell_type": "code",
   "execution_count": 10,
   "metadata": {},
   "outputs": [
    {
     "name": "stdout",
     "output_type": "stream",
     "text": [
      "0\n",
      "1\n",
      "1\n",
      "2\n",
      "3\n",
      "5\n",
      "8\n",
      "13\n",
      "21\n",
      "34\n"
     ]
    }
   ],
   "source": [
    "def fibonacci(n):\n",
    "    a, b = 0, 1\n",
    "    for i in range(n):\n",
    "        yield a\n",
    "        a, b = b, a + b\n",
    "        \n",
    "n = 10\n",
    "for num in fibonacci(n):\n",
    "    print(num)"
   ]
  },
  {
   "cell_type": "markdown",
   "metadata": {},
   "source": [
    "\n",
    "# List comprehension:\n",
    "- Vytvořte seznam čísel od 1 do 10 pomocí list comprehension.\n",
    "- Vytvořte seznam druhých mocnin čísel od 1 do 10 pomocí list comprehension.\n",
    "- Vytvořte seznam prvočísel od 1 do 100 pomocí list comprehension. Hint (použijte funkci all() na generátor testující dělitelnost).\n"
   ]
  },
  {
   "cell_type": "code",
   "execution_count": 3,
   "metadata": {},
   "outputs": [
    {
     "name": "stdout",
     "output_type": "stream",
     "text": [
      "[1, 2, 3, 4, 5, 6, 7, 8, 9, 10]\n",
      "[1, 4, 9, 16, 25, 36, 49, 64, 81, 100]\n",
      "[2, 3, 5, 7, 11, 13, 17, 19, 23, 29, 31, 37, 41, 43, 47, 53, 59, 61, 67, 71, 73, 79, 83, 89, 97]\n"
     ]
    }
   ],
   "source": [
    "numbers = [i for i in range(1, 11)]\n",
    "print(numbers)\n",
    "\n",
    "squares = [i**2 for i in range(1, 11)]\n",
    "print(squares)\n",
    "\n",
    "primes = [x for x in range(2, 101) if all(x % y != 0 for y in range(2, int(x**0.5)+1))]\n",
    "print(primes)"
   ]
  },
  {
   "cell_type": "markdown",
   "metadata": {},
   "source": [
    "\n",
    "# Práce se soubory:\n",
    "- Pomocí %%writefile vytvořte soubor s nějakým textem.\n",
    "- Otevřete soubor pro čtení a vypište jeho obsah.\n",
    "- Otevřete jiný soubor pro zápis a napište do něj textový řetězec.\n",
    "- Pomocí f-strings zapište do souboru tabulku čísel od 1 do 10, jejich druhých mocnin a jejich druhých odmocnin."
   ]
  },
  {
   "cell_type": "code",
   "execution_count": 4,
   "metadata": {},
   "outputs": [
    {
     "name": "stdout",
     "output_type": "stream",
     "text": [
      "Writing jejda.text\n"
     ]
    }
   ],
   "source": [
    "%%writefile jejda.text\n",
    "hotovy ukol"
   ]
  },
  {
   "cell_type": "code",
   "execution_count": 5,
   "metadata": {},
   "outputs": [
    {
     "name": "stdout",
     "output_type": "stream",
     "text": [
      "hotovy ukol\n"
     ]
    }
   ],
   "source": [
    "%less jejda.text"
   ]
  },
  {
   "cell_type": "code",
   "execution_count": 8,
   "metadata": {},
   "outputs": [
    {
     "name": "stdout",
     "output_type": "stream",
     "text": [
      "Overwriting kuku.text\n"
     ]
    }
   ],
   "source": [
    "%%writefile kuku.text\n",
    "for k in range (1, 11):\n",
    "    import math\n",
    "    print(f\"cislo = {k}, druha mocnina = {k**2}, druha odmocnina = {math.sqrt(k)}\")"
   ]
  },
  {
   "cell_type": "code",
   "execution_count": 9,
   "metadata": {},
   "outputs": [
    {
     "name": "stdout",
     "output_type": "stream",
     "text": [
      "cislo = 1, druha mocnina = 1, druha odmocnina = 1.0\n",
      "cislo = 2, druha mocnina = 4, druha odmocnina = 1.4142135623730951\n",
      "cislo = 3, druha mocnina = 9, druha odmocnina = 1.7320508075688772\n",
      "cislo = 4, druha mocnina = 16, druha odmocnina = 2.0\n",
      "cislo = 5, druha mocnina = 25, druha odmocnina = 2.23606797749979\n",
      "cislo = 6, druha mocnina = 36, druha odmocnina = 2.449489742783178\n",
      "cislo = 7, druha mocnina = 49, druha odmocnina = 2.6457513110645907\n",
      "cislo = 8, druha mocnina = 64, druha odmocnina = 2.8284271247461903\n",
      "cislo = 9, druha mocnina = 81, druha odmocnina = 3.0\n",
      "cislo = 10, druha mocnina = 100, druha odmocnina = 3.1622776601683795\n"
     ]
    }
   ],
   "source": [
    "%run kuku.text"
   ]
  },
  {
   "cell_type": "markdown",
   "metadata": {},
   "source": []
  },
  {
   "cell_type": "markdown",
   "metadata": {},
   "source": [
    "# Domácí úkol:\n",
    "Pomocí vlastních tříd a dědičnosti vytvořte \"soubor tříd\" = nástroj pro derivaci funkcí.\n",
    "\n",
    "Konkrétněji:\n",
    "- Vytvořte třídu **Operator**\n",
    "    - Třída bude mít metody:\n",
    "        - `__init__()` - inicializuje operátor (zde stačí `pass`)\n",
    "        - `__str__()` - vrací řetězec reprezentující operátor\n",
    "        - `__repr__()` - vrací řetězec reprezentující operátor\n",
    "- Vytvořte třídu **BinaryOperator**, která bude dědit od třídy Operator\n",
    "    - Třída bude mít atributy:\n",
    "        - `levy_argument` - levý operand\n",
    "        - `pravy_argument` - pravý operand\n",
    "    - Třída bude mít metody:\n",
    "        - `__init__()` - inicializuje operátor, přiřadí argumenty\n",
    "        - `__str__()` - vrací řetězec reprezentující operátor\n",
    "        - `__repr__()` - vrací řetězec reprezentující operátor\n",
    "        - `diff()` - vrací derivaci operátoru\n",
    "- Vytvořte třídu **UnaryOperator**, která bude dědit od třídy Operator\n",
    "    - Třída bude mít atributy:\n",
    "        - `argument` - argument funkce \n",
    "    - Třída bude mít metody:\n",
    "        - `__init__()` - inicializuje operátor, přiřadí argument\n",
    "        - `__str__()` - vrací řetězec reprezentující operátor\n",
    "        - `__repr__()` - vrací řetězec reprezentující operátor\n",
    "        - `diff()` - vrací derivaci operátoru\n",
    "\n",
    "Pro počítání derivací použijte standardní pravidla:\n",
    "- derivace součtu je součet derivací\n",
    "- pravidlo pro derivaci součinu\n",
    "- derivace funkce je derivovaná funkce násobená derivovaným argumentem\n",
    "\n",
    "Pro **BinaryOperator** a **UnaryOperator** implementujte také metody implementující standardní operátory:\n",
    "- `__add__()` - implementuje operátor `+`\n",
    "- `__sub__()` - implementuje operátor `-`\n",
    "- `__mul__()` - implementuje operátor `*`\n",
    "\n",
    "Pro **BinaryOperator** implementujte dvě dceřiné třídy:\n",
    "- **Addition** - implementuje operátor `+`\n",
    "- **Multiplication** - implementuje operátor `*`\n",
    "\n",
    "Pro **UnaryOperator** implementujte tyto dceřiné třídy:\n",
    "- **exp** - implementuje funkci `exp`\n",
    "- **sin** - implementuje funkci `sin`\n",
    "- **cos** - implementuje funkci `cos`\n",
    "- **ln** - implementuje funkci `ln`\n",
    "- **frc** - implementuje funkci `1/x`\n",
    "- **identity** - implementuje identitu `x`\n",
    "- **cst** - implementuje konstantu `c`\n",
    "- **mocnina** - implementuje mocninu `x^n`\n",
    "\n",
    "U všech funckí implementujte adekvátně metodu `diff()` a `__str__()`, tak aby se funkce vypisovaly v přehledné podobě.\n",
    "\n",
    "Ozkoušejte na následujících funkcích:\n",
    "- $sin(x + cos(x*x)) + 1$\n",
    "- $x^2 + 2x + 1 + 2x^2$\n",
    "- $x^2 + 2x + exp(x)$"
   ]
  },
  {
   "cell_type": "code",
   "execution_count": 97,
   "metadata": {},
   "outputs": [],
   "source": [
    "# kostra k doplnění, místa označená TODO doplňte\n",
    "\n",
    "class Opertor:\n",
    "    def __init__(self):\n",
    "        pass\n",
    "    \n",
    "    def __str__(self):\n",
    "        return type(self).__name__\n",
    "    \n",
    "    def __repr__(self):\n",
    "        return self.__str__()\n",
    "    \n",
    "    def diff(self):\n",
    "        pass\n",
    "    \n",
    "    def __add__(self, other):\n",
    "        # TODO (použijte Addition)\n",
    "        return Addition(self,other)\n",
    "        pass\n",
    "    \n",
    "    def __sub__(self, other):\n",
    "        # TODO (použijte Addition a Multiplication se zápornou konstantu)\n",
    "        return Addition(self,Multiplication(cst(-1),other))\n",
    "        pass\n",
    "    \n",
    "    def __mul__(self, other):\n",
    "        # TODO (použijte Multiplication)\n",
    "        return Multiplication(self,other)\n",
    "        pass\n",
    "    \n",
    "class BinaryOperator(Opertor):\n",
    "    def __init__(self, levy_argument, pravy_argument):\n",
    "        self.levy_argument = levy_argument\n",
    "        self.pravy_argument = pravy_argument\n",
    "        \n",
    "class UnaryOperator(Opertor):\n",
    "    def __init__(self, argument):\n",
    "        self.argument = argument\n",
    "    def __str__(self):\n",
    "        return type(self).__name__ + \"(\" + self.argument.__str__() + \")\"\n",
    "        \n",
    "class Addition(BinaryOperator):\n",
    "    def __str__(self):\n",
    "        # TODO vypíšeme něco jako (levy_argument)+(pravy_argument)\n",
    "        return (self.levy_argument.__str__()) + \" + \" + (self.pravy_argument.__str__())\n",
    "        pass\n",
    "    def diff(self):\n",
    "        # TODO\n",
    "        return self.levy_argument.diff()+self.pravy_argument.diff()\n",
    "        pass\n",
    "    \n",
    "class Multiplication(BinaryOperator):\n",
    "    def __str__(self):\n",
    "        # TODO vypíšeme něco jako (levy_argument)*(pravy_argument)\n",
    "        return \"(\" + (self.levy_argument.__str__()) + \")*(\" + (self.pravy_argument.__str__()) + \")\"\n",
    "        pass\n",
    "    def diff(self):\n",
    "        # TODO\n",
    "        return self.levy_argument.diff()*self.pravy_argument+self.levy_argument*self.pravy_argument.diff()\n",
    "        pass\n",
    "    \n",
    "class cst(UnaryOperator):\n",
    "    def __init__(self, value):\n",
    "        self.value = value\n",
    "    def __str__(self):\n",
    "        # TODO vypíšeme něco jako value\n",
    "        return str(self.value)\n",
    "        pass\n",
    "    def diff(self):\n",
    "        return cst(0)\n",
    "        pass\n",
    "    \n",
    "class identity(UnaryOperator):\n",
    "    def __init__(self):\n",
    "        pass\n",
    "    def __str__(self):\n",
    "        # TODO vypíšeme něco jako x\n",
    "        return 'x'   \n",
    "        pass\n",
    "    def diff(self):\n",
    "        # TODO\n",
    "        return cst(1)\n",
    "        pass\n",
    "    \n",
    "class mocnina(UnaryOperator):\n",
    "    def __init__(self, argument, exponent):\n",
    "        self.argument = argument\n",
    "        self.exponent = exponent\n",
    "    def __str__(self):\n",
    "        # TODO vypíšeme něco jako argument^exponent\n",
    "        return self.argument.__str__() + \"^(\" + self.exponent.__str__() + \")\"\n",
    "        pass\n",
    "    def diff(self):\n",
    "        # TODO\n",
    "        return cst(self.exponent)*mocnina(self.argument,self.exponent-1)*self.argument.diff()\n",
    "        pass\n",
    "    \n",
    "class sin(UnaryOperator):\n",
    "    def diff(self):\n",
    "        # TODO\n",
    "        return cos(self.argument)*self.argument.diff()\n",
    "        pass\n",
    "\n",
    "class cos(UnaryOperator):\n",
    "    def diff(self):\n",
    "        # TODO\n",
    "        return cst(-1)*sin(self.argument)*self.argument.diff()\n",
    "        pass\n",
    "\n",
    "class exp(UnaryOperator):\n",
    "    def diff(self):\n",
    "        # TODO\n",
    "        return exp(self.argument)*self.argument.diff()\n",
    "        pass\n",
    "    \n",
    "class ln(UnaryOperator):\n",
    "    def diff(self):\n",
    "        # TODO\n",
    "        return frc(self.argument)*self.argument.diff()\n",
    "        pass\n",
    "\n",
    "class frc(UnaryOperator):\n",
    "    def __str__(self):\n",
    "        # TODO vypíšeme něco jako 1/(argument)\n",
    "        return \"1/\"+self.argument.__str__()\n",
    "        pass\n",
    "    \n",
    "    def diff(self):\n",
    "        # TODO\n",
    "        return cst(-1)*frc(mocnina(self.argument,2))*self.argument.diff()\n",
    "        pass"
   ]
  },
  {
   "cell_type": "code",
   "execution_count": 98,
   "metadata": {},
   "outputs": [
    {
     "name": "stdout",
     "output_type": "stream",
     "text": [
      "sin(x + cos((x)*(x))) + 1\n",
      "(cos(x + cos((x)*(x))))*(1 + ((-1)*(sin((x)*(x))))*((1)*(x) + (x)*(1))) + 0\n",
      "((-1)*(1/sin(x)^(2)))*((cos(x))*(1))\n"
     ]
    }
   ],
   "source": [
    "# takto by se to mělo používat\n",
    "x = identity()\n",
    "# sin(x + cos(x*x)) + 1\n",
    "f1 = sin(x + cos(x*x)) + cst(1)\n",
    "print(f1)\n",
    "print(f1.diff())\n",
    "print(frc(sin(x)).diff())"
   ]
  },
  {
   "cell_type": "markdown",
   "metadata": {},
   "source": [
    "můj výstup byl:\n",
    "\n",
    "`sin(x + cos((x)*(x))) + 1`\n",
    "\n",
    "`(cos(x + cos((x)*(x))))*(1 + ((-1)*(sin((x)*(x))))*((1)*(x) + (x)*(1))) + 0`"
   ]
  },
  {
   "cell_type": "code",
   "execution_count": 95,
   "metadata": {},
   "outputs": [
    {
     "name": "stdout",
     "output_type": "stream",
     "text": [
      "x^(2) + (2)*(x) + 1 + (2)*(x^(2))\n",
      "((2)*(x^(1)))*(1) + (0)*(x) + (2)*(1) + 0 + (0)*(x^(2)) + (2)*(((2)*(x^(1)))*(1))\n"
     ]
    }
   ],
   "source": [
    "x = identity()\n",
    "# x ^ 2 + 2x + 1 + 2x ^ 2\n",
    "f2 = mocnina(x,2) + cst(2)*x + cst(1) + cst(2)*mocnina(x,2)\n",
    "print(f2)\n",
    "print(f2.diff())\n"
   ]
  },
  {
   "cell_type": "markdown",
   "metadata": {},
   "source": [
    "můj výstup byl:\n",
    "\n",
    "`(x)^2 + (2)*(x) + 1 + (2)*((x)^2)`\n",
    "\n",
    "`((2)*((x)^1))*(1) + (0)*(x) + (2)*(1) + 0 + (0)*((x)^2) + (2)*(((2)*((x)^1))*(1))`"
   ]
  },
  {
   "cell_type": "code",
   "execution_count": 96,
   "metadata": {},
   "outputs": [
    {
     "name": "stdout",
     "output_type": "stream",
     "text": [
      "x^(2) + (2)*(x) + exp(x)\n",
      "((2)*(x^(1)))*(1) + (0)*(x) + (2)*(1) + (exp(x))*(1)\n"
     ]
    }
   ],
   "source": [
    "x = identity()\n",
    "# x ^ 2 + 2x + exp(x)\n",
    "f3 = mocnina(x,2) + cst(2)*x + exp(x)\n",
    "print(f3)\n",
    "print(f3.diff())\n"
   ]
  },
  {
   "cell_type": "markdown",
   "metadata": {},
   "source": [
    "můj výstup byl:\n",
    "\n",
    "`(x)^2 + (2)*(x) + exp(x)`\n",
    "\n",
    "`((2)*((x)^1))*(1) + (0)*(x) + (2)*(1) + (exp(x))*(1)`\n"
   ]
  },
  {
   "cell_type": "markdown",
   "metadata": {},
   "source": [
    "# Bonusový úkol:\n",
    "Doplňte ke všem třídám metodu `simplify()`, která provede zjednodušení výrazu. Například:\n",
    "- součet s nulou vrátí druhý operand\n",
    "- součin s nulou vrátí nulu\n",
    "- mocnina s exponentem 0 vrátí 1\n",
    "- mocnina s exponentem 1 vrátí první argument\n",
    "- součín dvou stejných argumentů vrátí mocninu s exponentem 2\n",
    "- součin konstant vrátí konstantu se součinem\n",
    "- ..."
   ]
  },
  {
   "cell_type": "markdown",
   "metadata": {},
   "source": []
  }
 ],
 "metadata": {
  "kernelspec": {
   "display_name": "anaconda-2022.05-py39",
   "language": "python",
   "name": "conda-env-anaconda-2022.05-py39-py"
  },
  "language_info": {
   "codemirror_mode": {
    "name": "ipython",
    "version": 3
   },
   "file_extension": ".py",
   "mimetype": "text/x-python",
   "name": "python",
   "nbconvert_exporter": "python",
   "pygments_lexer": "ipython3",
   "version": "3.9.12"
  },
  "vscode": {
   "interpreter": {
    "hash": "e7370f93d1d0cde622a1f8e1c04877d8463912d04d973331ad4851f04de6915a"
   }
  }
 },
 "nbformat": 4,
 "nbformat_minor": 4
}
