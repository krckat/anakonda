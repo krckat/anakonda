{
 "cells": [
  {
   "cell_type": "code",
   "execution_count": 2,
   "metadata": {},
   "outputs": [],
   "source": [
    "# KOCHOVA HVĚZDA(VLOČKA)\n",
    "\n",
    "import turtle as tu\n",
    "\n",
    "\n",
    "def kochova_hvezda(k, delka_strany):\n",
    "    if k == 0:\n",
    "        tu.forward(delka_strany)\n",
    "    else:\n",
    "        kochova_hvezda(k - 1, delka_strany)\n",
    "        tu.left(60)\n",
    "        kochova_hvezda(k - 1, delka_strany)\n",
    "        tu.left(-120)\n",
    "        kochova_hvezda(k - 1, delka_strany)\n",
    "        tu.left(60) \n",
    "        kochova_hvezda(k - 1, delka_strany)   \n",
    "\n"
   ]
  },
  {
   "cell_type": "code",
   "execution_count": 21,
   "metadata": {},
   "outputs": [],
   "source": [
    "\n",
    "tu.speed(0) # změně rychlosti.\n",
    "tu.pencolor(\"mediumblue\") # barva cary\n",
    "tu.penup() # přestávky v kresleni.\n",
    "tu.pensize(2) # tloustka cary.\n",
    "delka = 4\n",
    "\n",
    "tu.backward(delka / 2) # pohyb zpet.\n",
    "tu.pendown() # kreslici poza.\n",
    "for i in range(3):\n",
    "    kochova_hvezda(4, delka)\n",
    "    tu.left(-120)\n",
    "\n",
    "tu.done() # ukonceni."
   ]
  },
  {
   "cell_type": "code",
   "execution_count": 3,
   "metadata": {},
   "outputs": [],
   "source": [
    "# Strom    \n",
    "\n",
    "import turtle as tu\n",
    "tu.speed(0) # změně rychlosti. \n",
    "tu.pensize(2) # tloustka cary\n",
    "tu.pencolor(\"saddlebrown\") # barva cary\n",
    "\n",
    "tu.left(90)\n",
    "\n",
    "def strom(delka_vetve, r):\n",
    "    if r > 0:\n",
    "        tu.forward(delka_vetve)\n",
    "        tu.right(30)\n",
    "        strom(0.8 * delka_vetve, r - 1)\n",
    "        tu.left(60)\n",
    "        strom(0.8 * delka_vetve, r - 1)\n",
    "        tu.right(30)\n",
    "        tu.backward(delka_vetve)\n",
    "\n",
    "strom(70, 6) # velkost(70) iterace(6)\n",
    "tu.done() # ukonceni."
   ]
  }
 ],
 "metadata": {
  "kernelspec": {
   "display_name": "base",
   "language": "python",
   "name": "python3"
  },
  "language_info": {
   "codemirror_mode": {
    "name": "ipython",
    "version": 3
   },
   "file_extension": ".py",
   "mimetype": "text/x-python",
   "name": "python",
   "nbconvert_exporter": "python",
   "pygments_lexer": "ipython3",
   "version": "3.9.13"
  },
  "orig_nbformat": 4
 },
 "nbformat": 4,
 "nbformat_minor": 2
}
